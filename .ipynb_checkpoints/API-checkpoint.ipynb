{
 "cells": [
  {
   "cell_type": "code",
   "execution_count": 2,
   "metadata": {},
   "outputs": [],
   "source": [
    "# Import packages\n",
    "from flask import Flask, render_template, request, redirect\n",
    "from bokeh.embed import components\n",
    "from bokeh.models import HoverTool, Legend\n",
    "from bokeh.plotting import figure, show\n",
    "from bokeh.models.formatters import DatetimeTickFormatter\n",
    "from bokeh.io import output_notebook\n",
    "import pandas as pd\n",
    "import numpy as np\n",
    "import requests\n",
    "import json\n",
    "from datetime import datetime"
   ]
  },
  {
   "cell_type": "code",
   "execution_count": 61,
   "metadata": {},
   "outputs": [],
   "source": [
    "ticker = 'AAPL'\n",
    "columnslist = ['Adjusted Closing Price','Opening Price','Closing Price']"
   ]
  },
  {
   "cell_type": "code",
   "execution_count": 35,
   "metadata": {},
   "outputs": [],
   "source": [
    "columnsdict = {'Opening Price': 'open',\\\n",
    "               'Adjusted Closing Price': 'adjusted close',\\\n",
    "               'Closing Price': 'close'}"
   ]
  },
  {
   "cell_type": "code",
   "execution_count": 81,
   "metadata": {},
   "outputs": [],
   "source": [
    "key = 'O0YXZHA3HRN94A94'\n",
    "ticker = 'AAPL'\n",
    "url = 'https://www.alphavantage.co/query?function=TIME_SERIES_DAILY_ADJUSTED&symbol={}&apikey={}&outputsize=compact'.format(ticker, key)\n",
    "response = requests.get(url)\n",
    "df = pd.DataFrame(response.json()['Time Series (Daily)']).transpose()\n"
   ]
  },
  {
   "cell_type": "code",
   "execution_count": 82,
   "metadata": {},
   "outputs": [],
   "source": [
    "df=df.iloc[::-1]\n",
    "df.reset_index(inplace=True)\n",
    "df = df.rename(columns = {'index':'date'})"
   ]
  },
  {
   "cell_type": "code",
   "execution_count": 83,
   "metadata": {},
   "outputs": [
    {
     "data": {
      "text/html": [
       "<div>\n",
       "<style scoped>\n",
       "    .dataframe tbody tr th:only-of-type {\n",
       "        vertical-align: middle;\n",
       "    }\n",
       "\n",
       "    .dataframe tbody tr th {\n",
       "        vertical-align: top;\n",
       "    }\n",
       "\n",
       "    .dataframe thead th {\n",
       "        text-align: right;\n",
       "    }\n",
       "</style>\n",
       "<table border=\"1\" class=\"dataframe\">\n",
       "  <thead>\n",
       "    <tr style=\"text-align: right;\">\n",
       "      <th></th>\n",
       "      <th>date</th>\n",
       "      <th>open</th>\n",
       "      <th>high</th>\n",
       "      <th>low</th>\n",
       "      <th>close</th>\n",
       "      <th>adjusted close</th>\n",
       "      <th>volume</th>\n",
       "      <th>dividend</th>\n",
       "      <th>split</th>\n",
       "    </tr>\n",
       "  </thead>\n",
       "  <tbody>\n",
       "    <tr>\n",
       "      <th>0</th>\n",
       "      <td>2020-08-18</td>\n",
       "      <td>457.41</td>\n",
       "      <td>464.0</td>\n",
       "      <td>456.03</td>\n",
       "      <td>462.25</td>\n",
       "      <td>115.363245931</td>\n",
       "      <td>26408385</td>\n",
       "      <td>0.0000</td>\n",
       "      <td>1.0</td>\n",
       "    </tr>\n",
       "    <tr>\n",
       "      <th>1</th>\n",
       "      <td>2020-08-19</td>\n",
       "      <td>463.933</td>\n",
       "      <td>468.65</td>\n",
       "      <td>462.44</td>\n",
       "      <td>462.83</td>\n",
       "      <td>115.507995921</td>\n",
       "      <td>36384502</td>\n",
       "      <td>0.0000</td>\n",
       "      <td>1.0</td>\n",
       "    </tr>\n",
       "    <tr>\n",
       "      <th>2</th>\n",
       "      <td>2020-08-20</td>\n",
       "      <td>463.0</td>\n",
       "      <td>473.568</td>\n",
       "      <td>462.9335</td>\n",
       "      <td>473.1</td>\n",
       "      <td>118.07106901</td>\n",
       "      <td>31726797</td>\n",
       "      <td>0.0000</td>\n",
       "      <td>1.0</td>\n",
       "    </tr>\n",
       "    <tr>\n",
       "      <th>3</th>\n",
       "      <td>2020-08-21</td>\n",
       "      <td>477.05</td>\n",
       "      <td>499.472</td>\n",
       "      <td>477.0</td>\n",
       "      <td>497.48</td>\n",
       "      <td>124.155559948</td>\n",
       "      <td>84513660</td>\n",
       "      <td>0.0000</td>\n",
       "      <td>1.0</td>\n",
       "    </tr>\n",
       "    <tr>\n",
       "      <th>4</th>\n",
       "      <td>2020-08-24</td>\n",
       "      <td>514.79</td>\n",
       "      <td>515.14</td>\n",
       "      <td>495.745</td>\n",
       "      <td>503.43</td>\n",
       "      <td>125.640495185</td>\n",
       "      <td>86484442</td>\n",
       "      <td>0.0000</td>\n",
       "      <td>1.0</td>\n",
       "    </tr>\n",
       "  </tbody>\n",
       "</table>\n",
       "</div>"
      ],
      "text/plain": [
       "         date     open     high       low   close adjusted close    volume  \\\n",
       "0  2020-08-18   457.41    464.0    456.03  462.25  115.363245931  26408385   \n",
       "1  2020-08-19  463.933   468.65    462.44  462.83  115.507995921  36384502   \n",
       "2  2020-08-20    463.0  473.568  462.9335   473.1   118.07106901  31726797   \n",
       "3  2020-08-21   477.05  499.472     477.0  497.48  124.155559948  84513660   \n",
       "4  2020-08-24   514.79   515.14   495.745  503.43  125.640495185  86484442   \n",
       "\n",
       "  dividend split  \n",
       "0   0.0000   1.0  \n",
       "1   0.0000   1.0  \n",
       "2   0.0000   1.0  \n",
       "3   0.0000   1.0  \n",
       "4   0.0000   1.0  "
      ]
     },
     "execution_count": 83,
     "metadata": {},
     "output_type": "execute_result"
    }
   ],
   "source": [
    "df.columns=['date','open','high','low','close','adjusted close','volume','dividend','split']\n",
    "df.head()"
   ]
  },
  {
   "cell_type": "code",
   "execution_count": 84,
   "metadata": {},
   "outputs": [],
   "source": [
    "ys = [columnsdict[c] for c in columnslist]"
   ]
  },
  {
   "cell_type": "code",
   "execution_count": 87,
   "metadata": {},
   "outputs": [
    {
     "data": {
      "text/plain": [
       "date              datetime64[ns]\n",
       "open                      object\n",
       "high                      object\n",
       "low                       object\n",
       "close                     object\n",
       "adjusted close            object\n",
       "volume                    object\n",
       "dividend                  object\n",
       "split                     object\n",
       "dtype: object"
      ]
     },
     "execution_count": 87,
     "metadata": {},
     "output_type": "execute_result"
    }
   ],
   "source": [
    "df['date']=pd.to_datetime(df['date'],format=\"%Y-%m-%d\")\n",
    "df.dtypes"
   ]
  },
  {
   "cell_type": "code",
   "execution_count": 91,
   "metadata": {},
   "outputs": [],
   "source": [
    "clrs = [\"orange\",\"navy\",\"grey\"]\n",
    "plt = figure(plot_width=600, plot_height=500,x_axis_type=\"datetime\", title =ticker+\" Prices\")\n",
    "for p in range(len(ys)):\n",
    "    plt.line(df['date'],df[ys[p]],\\\n",
    "           color = clrs[p],\\\n",
    "           alpha = 0.8,\\\n",
    "           line_width=1.5,\\\n",
    "           legend_label = ticker + \": \" + columnslist[p])\n",
    "    #plt.xaxis.formatter = DatetimeTickFormatter(months = '%b %y')\n",
    "    plt.xaxis.axis_label = \"Date\"\n",
    "    plt.yaxis.axis_label = \"Price $\"\n",
    "    plt.legend.location = \"top_right\"\n",
    "show(plt)"
   ]
  },
  {
   "cell_type": "code",
   "execution_count": null,
   "metadata": {},
   "outputs": [],
   "source": []
  }
 ],
 "metadata": {
  "kernelspec": {
   "display_name": "Python 3",
   "language": "python",
   "name": "python3"
  },
  "language_info": {
   "codemirror_mode": {
    "name": "ipython",
    "version": 3
   },
   "file_extension": ".py",
   "mimetype": "text/x-python",
   "name": "python",
   "nbconvert_exporter": "python",
   "pygments_lexer": "ipython3",
   "version": "3.8.5"
  }
 },
 "nbformat": 4,
 "nbformat_minor": 4
}
