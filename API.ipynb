{
 "cells": [
  {
   "cell_type": "code",
   "execution_count": 2,
   "metadata": {},
   "outputs": [],
   "source": [
    "# Import packages\n",
    "from flask import Flask, render_template, request, redirect\n",
    "from bokeh.embed import components\n",
    "from bokeh.models import HoverTool, Legend\n",
    "from bokeh.plotting import figure, show\n",
    "from bokeh.models.formatters import DatetimeTickFormatter\n",
    "from bokeh.io import output_notebook\n",
    "import pandas as pd\n",
    "import numpy as np\n",
    "import requests\n",
    "import json\n",
    "from datetime import datetime"
   ]
  },
  {
   "cell_type": "code",
   "execution_count": 92,
   "metadata": {},
   "outputs": [],
   "source": [
    "ticker = 'BABA'\n",
    "columnslist = ['Adjusted Closing Price','Opening Price','Closing Price']"
   ]
  },
  {
   "cell_type": "code",
   "execution_count": 93,
   "metadata": {},
   "outputs": [],
   "source": [
    "columnsdict = {'Opening Price': 'open',\\\n",
    "               'Adjusted Closing Price': 'adjusted close',\\\n",
    "               'Closing Price': 'close'}"
   ]
  },
  {
   "cell_type": "code",
   "execution_count": 94,
   "metadata": {},
   "outputs": [],
   "source": [
    "key = 'O0YXZHA3HRN94A94'\n",
    "ticker = 'BABA'\n",
    "url = 'https://www.alphavantage.co/query?function=TIME_SERIES_DAILY_ADJUSTED&symbol={}&apikey={}&outputsize=compact'.format(ticker, key)\n",
    "response = requests.get(url)\n",
    "df = pd.DataFrame(response.json()['Time Series (Daily)']).transpose()\n"
   ]
  },
  {
   "cell_type": "code",
   "execution_count": 95,
   "metadata": {},
   "outputs": [],
   "source": [
    "df=df.iloc[::-1]\n",
    "df.reset_index(inplace=True)\n",
    "df = df.rename(columns = {'index':'date'})"
   ]
  },
  {
   "cell_type": "code",
   "execution_count": 96,
   "metadata": {},
   "outputs": [
    {
     "data": {
      "text/html": [
       "<div>\n",
       "<style scoped>\n",
       "    .dataframe tbody tr th:only-of-type {\n",
       "        vertical-align: middle;\n",
       "    }\n",
       "\n",
       "    .dataframe tbody tr th {\n",
       "        vertical-align: top;\n",
       "    }\n",
       "\n",
       "    .dataframe thead th {\n",
       "        text-align: right;\n",
       "    }\n",
       "</style>\n",
       "<table border=\"1\" class=\"dataframe\">\n",
       "  <thead>\n",
       "    <tr style=\"text-align: right;\">\n",
       "      <th></th>\n",
       "      <th>date</th>\n",
       "      <th>open</th>\n",
       "      <th>high</th>\n",
       "      <th>low</th>\n",
       "      <th>close</th>\n",
       "      <th>adjusted close</th>\n",
       "      <th>volume</th>\n",
       "      <th>dividend</th>\n",
       "      <th>split</th>\n",
       "    </tr>\n",
       "  </thead>\n",
       "  <tbody>\n",
       "    <tr>\n",
       "      <th>0</th>\n",
       "      <td>2020-08-18</td>\n",
       "      <td>258.71</td>\n",
       "      <td>261.42</td>\n",
       "      <td>256.06</td>\n",
       "      <td>259.2</td>\n",
       "      <td>259.2</td>\n",
       "      <td>13267829</td>\n",
       "      <td>0.0000</td>\n",
       "      <td>1.0</td>\n",
       "    </tr>\n",
       "    <tr>\n",
       "      <th>1</th>\n",
       "      <td>2020-08-19</td>\n",
       "      <td>260.89</td>\n",
       "      <td>261.29</td>\n",
       "      <td>257.38</td>\n",
       "      <td>260.59</td>\n",
       "      <td>260.59</td>\n",
       "      <td>14096512</td>\n",
       "      <td>0.0000</td>\n",
       "      <td>1.0</td>\n",
       "    </tr>\n",
       "    <tr>\n",
       "      <th>2</th>\n",
       "      <td>2020-08-20</td>\n",
       "      <td>256.89</td>\n",
       "      <td>258.88</td>\n",
       "      <td>254.18</td>\n",
       "      <td>257.97</td>\n",
       "      <td>257.97</td>\n",
       "      <td>21460767</td>\n",
       "      <td>0.0000</td>\n",
       "      <td>1.0</td>\n",
       "    </tr>\n",
       "    <tr>\n",
       "      <th>3</th>\n",
       "      <td>2020-08-21</td>\n",
       "      <td>259.03</td>\n",
       "      <td>267.43</td>\n",
       "      <td>258.31</td>\n",
       "      <td>265.8</td>\n",
       "      <td>265.8</td>\n",
       "      <td>25648217</td>\n",
       "      <td>0.0000</td>\n",
       "      <td>1.0</td>\n",
       "    </tr>\n",
       "    <tr>\n",
       "      <th>4</th>\n",
       "      <td>2020-08-24</td>\n",
       "      <td>273.24</td>\n",
       "      <td>276.97</td>\n",
       "      <td>271.62</td>\n",
       "      <td>276.02</td>\n",
       "      <td>276.02</td>\n",
       "      <td>22475757</td>\n",
       "      <td>0.0000</td>\n",
       "      <td>1.0</td>\n",
       "    </tr>\n",
       "  </tbody>\n",
       "</table>\n",
       "</div>"
      ],
      "text/plain": [
       "         date    open    high     low   close adjusted close    volume  \\\n",
       "0  2020-08-18  258.71  261.42  256.06   259.2          259.2  13267829   \n",
       "1  2020-08-19  260.89  261.29  257.38  260.59         260.59  14096512   \n",
       "2  2020-08-20  256.89  258.88  254.18  257.97         257.97  21460767   \n",
       "3  2020-08-21  259.03  267.43  258.31   265.8          265.8  25648217   \n",
       "4  2020-08-24  273.24  276.97  271.62  276.02         276.02  22475757   \n",
       "\n",
       "  dividend split  \n",
       "0   0.0000   1.0  \n",
       "1   0.0000   1.0  \n",
       "2   0.0000   1.0  \n",
       "3   0.0000   1.0  \n",
       "4   0.0000   1.0  "
      ]
     },
     "execution_count": 96,
     "metadata": {},
     "output_type": "execute_result"
    }
   ],
   "source": [
    "df.columns=['date','open','high','low','close','adjusted close','volume','dividend','split']\n",
    "df.head()"
   ]
  },
  {
   "cell_type": "code",
   "execution_count": 84,
   "metadata": {},
   "outputs": [],
   "source": [
    "ys = [columnsdict[c] for c in columnslist]"
   ]
  },
  {
   "cell_type": "code",
   "execution_count": 87,
   "metadata": {},
   "outputs": [
    {
     "data": {
      "text/plain": [
       "date              datetime64[ns]\n",
       "open                      object\n",
       "high                      object\n",
       "low                       object\n",
       "close                     object\n",
       "adjusted close            object\n",
       "volume                    object\n",
       "dividend                  object\n",
       "split                     object\n",
       "dtype: object"
      ]
     },
     "execution_count": 87,
     "metadata": {},
     "output_type": "execute_result"
    }
   ],
   "source": [
    "df['date']=pd.to_datetime(df['date'],format=\"%Y-%m-%d\")\n",
    "df.dtypes"
   ]
  },
  {
   "cell_type": "code",
   "execution_count": 91,
   "metadata": {},
   "outputs": [],
   "source": [
    "clrs = [\"orange\",\"navy\",\"grey\"]\n",
    "plt = figure(plot_width=600, plot_height=500,x_axis_type=\"datetime\", title =ticker+\" Prices\")\n",
    "for p in range(len(ys)):\n",
    "    plt.line(df['date'],df[ys[p]],\\\n",
    "           color = clrs[p],\\\n",
    "           alpha = 0.8,\\\n",
    "           line_width=1.5,\\\n",
    "           legend_label = ticker + \": \" + columnslist[p])\n",
    "    #plt.xaxis.formatter = DatetimeTickFormatter(months = '%b %y')\n",
    "    plt.xaxis.axis_label = \"Date\"\n",
    "    plt.yaxis.axis_label = \"Price $\"\n",
    "    plt.legend.location = \"top_right\"\n",
    "show(plt)"
   ]
  },
  {
   "cell_type": "code",
   "execution_count": 97,
   "metadata": {},
   "outputs": [
    {
     "data": {
      "text/plain": [
       "0     258.71\n",
       "1     260.89\n",
       "2     256.89\n",
       "3     259.03\n",
       "4     273.24\n",
       "       ...  \n",
       "95     226.5\n",
       "96    229.05\n",
       "97    234.95\n",
       "98    229.31\n",
       "99    227.88\n",
       "Name: open, Length: 100, dtype: object"
      ]
     },
     "execution_count": 97,
     "metadata": {},
     "output_type": "execute_result"
    }
   ],
   "source": [
    "df[columnsdict['Opening Price']]"
   ]
  },
  {
   "cell_type": "code",
   "execution_count": null,
   "metadata": {},
   "outputs": [],
   "source": []
  }
 ],
 "metadata": {
  "kernelspec": {
   "display_name": "Python 3",
   "language": "python",
   "name": "python3"
  },
  "language_info": {
   "codemirror_mode": {
    "name": "ipython",
    "version": 3
   },
   "file_extension": ".py",
   "mimetype": "text/x-python",
   "name": "python",
   "nbconvert_exporter": "python",
   "pygments_lexer": "ipython3",
   "version": "3.8.5"
  }
 },
 "nbformat": 4,
 "nbformat_minor": 4
}
